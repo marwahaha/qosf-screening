{
 "cells": [
  {
   "cell_type": "markdown",
   "metadata": {},
   "source": [
    "# QOSF screening challenge\n",
    "https://www.qosf.org/"
   ]
  },
  {
   "cell_type": "markdown",
   "metadata": {},
   "source": [
    "2020-09-10"
   ]
  },
  {
   "cell_type": "markdown",
   "metadata": {},
   "source": [
    "by [Kunal Marwaha](https://kunalmarwaha.com/about)"
   ]
  },
  {
   "cell_type": "raw",
   "metadata": {},
   "source": [
    "Task 2\n",
    "Implement a circuit that returns |01> and |10> with equal probability.\n",
    "Requirements :\n",
    "The circuit should consist only of CNOTs, RXs and RYs. \n",
    "Start from all parameters in parametric gates being equal to 0 or randomly chosen. \n",
    "You should find the right set of parameters using gradient descent (you can use more advanced optimization methods if you like). \n",
    "Simulations must be done with sampling - i.e. a limited number of measurements per iteration and noise. \n",
    "\n",
    "Compare the results for different numbers of measurements: 1, 10, 100, 1000. \n",
    "\n",
    "Bonus question:\n",
    "How to make sure you produce state |01> + |10> and not |01> - |10> ?"
   ]
  },
  {
   "cell_type": "markdown",
   "metadata": {},
   "source": [
    "## Getting started"
   ]
  },
  {
   "cell_type": "markdown",
   "metadata": {},
   "source": [
    "This is my first time using qiskit, but I'll give it a go."
   ]
  },
  {
   "cell_type": "markdown",
   "metadata": {},
   "source": [
    "I know how to turn $|00\\rangle$ into an equal combination of $|01\\rangle$ and $|10\\rangle$, but it uses a Hadamard gate."
   ]
  },
  {
   "cell_type": "code",
   "execution_count": 1,
   "metadata": {},
   "outputs": [],
   "source": [
    "from qiskit import *\n",
    "from qiskit.visualization import plot_histogram\n",
    "import matplotlib.pyplot as plt"
   ]
  },
  {
   "cell_type": "code",
   "execution_count": 2,
   "metadata": {},
   "outputs": [
    {
     "data": {
      "text/html": [
       "<pre style=\"word-wrap: normal;white-space: pre;background: #fff0;line-height: 1.1;font-family: &quot;Courier New&quot;,Courier,monospace\">     ┌───┐┌───┐     \n",
       "q_0: ┤ X ├┤ H ├──■──\n",
       "     ├───┤└───┘┌─┴─┐\n",
       "q_1: ┤ X ├─────┤ X ├\n",
       "     └───┘     └───┘</pre>"
      ],
      "text/plain": [
       "     ┌───┐┌───┐     \n",
       "q_0: ┤ X ├┤ H ├──■──\n",
       "     ├───┤└───┘┌─┴─┐\n",
       "q_1: ┤ X ├─────┤ X ├\n",
       "     └───┘     └───┘"
      ]
     },
     "execution_count": 2,
     "metadata": {},
     "output_type": "execute_result"
    }
   ],
   "source": [
    "qc_with_h = QuantumCircuit(2)\n",
    "qc_with_h.x(0)\n",
    "qc_with_h.x(1)\n",
    "qc_with_h.h(0)\n",
    "qc_with_h.cx(0, 1)\n",
    "qc_with_h.draw()"
   ]
  },
  {
   "cell_type": "code",
   "execution_count": 3,
   "metadata": {},
   "outputs": [
    {
     "name": "stderr",
     "output_type": "stream",
     "text": [
      "/home/kunal/anaconda3/lib/python3.7/site-packages/matplotlib/transforms.py:796: ComplexWarning: Casting complex values to real discards the imaginary part\n",
      "  points = np.array(args, dtype=float).reshape(2, 2)\n"
     ]
    },
    {
     "data": {
      "text/plain": [
       "Text(0.5, 1.0, 'Probability weights in state vector')"
      ]
     },
     "execution_count": 3,
     "metadata": {},
     "output_type": "execute_result"
    },
    {
     "data": {
      "image/png": "[encoded data removed]",
      "text/plain": [
       "<Figure size 432x288 with 1 Axes>"
      ]
     },
     "metadata": {
      "needs_background": "light"
     },
     "output_type": "display_data"
    }
   ],
   "source": [
    "backend = Aer.get_backend('statevector_simulator')\n",
    "final_state = execute(qc_with_h,backend).result().get_statevector()\n",
    "plt.bar(['00', '01', '10', '11'], final_state.conj()*final_state)\n",
    "plt.title(\"Probability weights in state vector\")"
   ]
  },
  {
   "cell_type": "markdown",
   "metadata": {},
   "source": [
    "I can show this with qiskit's sampling tools."
   ]
  },
  {
   "cell_type": "code",
   "execution_count": 4,
   "metadata": {},
   "outputs": [
    {
     "data": {
      "text/html": [
       "<pre style=\"word-wrap: normal;white-space: pre;background: #fff0;line-height: 1.1;font-family: &quot;Courier New&quot;,Courier,monospace\">     ┌───┐┌───┐     ┌─┐   \n",
       "q_0: ┤ X ├┤ H ├──■──┤M├───\n",
       "     ├───┤└───┘┌─┴─┐└╥┘┌─┐\n",
       "q_1: ┤ X ├─────┤ X ├─╫─┤M├\n",
       "     └───┘     └───┘ ║ └╥┘\n",
       "c: 2/════════════════╩══╩═\n",
       "                     0  1 </pre>"
      ],
      "text/plain": [
       "     ┌───┐┌───┐     ┌─┐   \n",
       "q_0: ┤ X ├┤ H ├──■──┤M├───\n",
       "     ├───┤└───┘┌─┴─┐└╥┘┌─┐\n",
       "q_1: ┤ X ├─────┤ X ├─╫─┤M├\n",
       "     └───┘     └───┘ ║ └╥┘\n",
       "c: 2/════════════════╩══╩═\n",
       "                     0  1 "
      ]
     },
     "execution_count": 4,
     "metadata": {},
     "output_type": "execute_result"
    }
   ],
   "source": [
    "qc_with_h_measured = QuantumCircuit(2, 2)\n",
    "qc_with_h_measured.x(0)\n",
    "qc_with_h_measured.x(1)\n",
    "qc_with_h_measured.h(0)\n",
    "qc_with_h_measured.cx(0, 1)\n",
    "qc_with_h_measured.measure([0, 1], [0, 1])\n",
    "qc_with_h_measured.draw()"
   ]
  },
  {
   "cell_type": "code",
   "execution_count": 5,
   "metadata": {},
   "outputs": [
    {
     "data": {
      "image/png": "[encoded data removed]",
      "text/plain": [
       "<Figure size 504x360 with 1 Axes>"
      ]
     },
     "execution_count": 5,
     "metadata": {},
     "output_type": "execute_result"
    }
   ],
   "source": [
    "backend = BasicAer.get_backend('qasm_simulator')\n",
    "counts = execute(qc_with_h_measured, backend, shots=100).result().get_counts()\n",
    "plot_histogram(counts)"
   ]
  },
  {
   "cell_type": "markdown",
   "metadata": {},
   "source": [
    "This is sampling between two values with 50% chance each. This is like a scaled binomial distribution (with mean $1/2$ and standard deviation $1/(2\\sqrt{N})$. By Chebyshev's inequality, the chance of three standard deviations above mean is at most 1/9 (and even smaller if I consider the distribution approximately normal). With good probability I expect the two values to be within $3/(\\sqrt{N})$ of each other. For example, with $N=100$, I only expect values within $0.35-0.65$."
   ]
  },
  {
   "cell_type": "markdown",
   "metadata": {},
   "source": [
    "## Avoiding the Hadamard"
   ]
  },
  {
   "cell_type": "markdown",
   "metadata": {},
   "source": [
    "One way I can remove the Hadamard is by inserting $R_x$ and $R_y$ gates in its place. Since the spirit of the problem seems to be \"optimize for these parameters\", I will insert an $R_y$ and $R_x$ in place of the Hadamard. (I also replace the $X$ gates for $R_x$ gates.)  Then I allow all gates except CNOT to take any parameter."
   ]
  },
  {
   "cell_type": "code",
   "execution_count": 6,
   "metadata": {},
   "outputs": [],
   "source": [
    "import numpy as np\n",
    "from numpy import pi"
   ]
  },
  {
   "cell_type": "code",
   "execution_count": 7,
   "metadata": {},
   "outputs": [],
   "source": [
    "def gen_circuit(thetas):\n",
    "    qc = QuantumCircuit(2, 2)\n",
    "    qc.rx(thetas[0], 0)\n",
    "    qc.rx(thetas[1], 1)\n",
    "    qc.ry(thetas[2], 0)\n",
    "    qc.rx(thetas[3], 0)\n",
    "    qc.cx(0, 1)\n",
    "    qc.measure([0, 1], [0, 1])\n",
    "    return qc"
   ]
  },
  {
   "cell_type": "markdown",
   "metadata": {},
   "source": [
    "Here's a random example."
   ]
  },
  {
   "cell_type": "code",
   "execution_count": 8,
   "metadata": {},
   "outputs": [
    {
     "data": {
      "text/html": [
       "<pre style=\"word-wrap: normal;white-space: pre;background: #fff0;line-height: 1.1;font-family: &quot;Courier New&quot;,Courier,monospace\">     ┌────────────┐┌────────────┐┌────────────┐     ┌─┐   \n",
       "q_0: ┤ RX(2.4479) ├┤ RY(1.7707) ├┤ RX(3.2658) ├──■──┤M├───\n",
       "     ├────────────┤└────────────┘└────────────┘┌─┴─┐└╥┘┌─┐\n",
       "q_1: ┤ RX(3.8473) ├────────────────────────────┤ X ├─╫─┤M├\n",
       "     └────────────┘                            └───┘ ║ └╥┘\n",
       "c: 2/════════════════════════════════════════════════╩══╩═\n",
       "                                                     0  1 </pre>"
      ],
      "text/plain": [
       "     ┌────────────┐┌────────────┐┌────────────┐     ┌─┐   \n",
       "q_0: ┤ RX(2.4479) ├┤ RY(1.7707) ├┤ RX(3.2658) ├──■──┤M├───\n",
       "     ├────────────┤└────────────┘└────────────┘┌─┴─┐└╥┘┌─┐\n",
       "q_1: ┤ RX(3.8473) ├────────────────────────────┤ X ├─╫─┤M├\n",
       "     └────────────┘                            └───┘ ║ └╥┘\n",
       "c: 2/════════════════════════════════════════════════╩══╩═\n",
       "                                                     0  1 "
      ]
     },
     "execution_count": 8,
     "metadata": {},
     "output_type": "execute_result"
    }
   ],
   "source": [
    "rands = np.random.random(4)*2*pi\n",
    "qc_rand = gen_circuit(rands)\n",
    "qc_rand.draw()"
   ]
  },
  {
   "cell_type": "code",
   "execution_count": 9,
   "metadata": {},
   "outputs": [],
   "source": [
    "def get_counts(qc, shots):\n",
    "    backend = BasicAer.get_backend('qasm_simulator')\n",
    "    return execute(qc, backend, shots=shots).result().get_counts()"
   ]
  },
  {
   "cell_type": "code",
   "execution_count": 10,
   "metadata": {},
   "outputs": [
    {
     "data": {
      "image/png": "[encoded data removed]",
      "text/plain": [
       "<Figure size 504x360 with 1 Axes>"
      ]
     },
     "execution_count": 10,
     "metadata": {},
     "output_type": "execute_result"
    }
   ],
   "source": [
    "shots = 1000\n",
    "counts = get_counts(qc_rand, shots)\n",
    "plot_histogram(counts)"
   ]
  },
  {
   "cell_type": "markdown",
   "metadata": {},
   "source": [
    "## Optimizing over parameters"
   ]
  },
  {
   "cell_type": "markdown",
   "metadata": {},
   "source": [
    "I define a loss function by seeing how much the probabilities differ from expected (50% each for $|01\\rangle$ and $|10\\rangle$):"
   ]
  },
  {
   "cell_type": "markdown",
   "metadata": {},
   "source": [
    "$$\n",
    "L = (prob_10 - 0.5)^2 + (prob_01 - 0.5)^2\n",
    "$$"
   ]
  },
  {
   "cell_type": "code",
   "execution_count": 11,
   "metadata": {},
   "outputs": [],
   "source": [
    "def loss_from_counts(counts, shots):\n",
    "    prob_01 = counts.get('01', 0)/shots\n",
    "    prob_10 = counts.get('10', 0)/shots\n",
    "    return (prob_10 - 0.5)**2 + (prob_01 - 0.5)**2"
   ]
  },
  {
   "cell_type": "code",
   "execution_count": 12,
   "metadata": {},
   "outputs": [
    {
     "data": {
      "text/plain": [
       "0.009140000000000006"
      ]
     },
     "execution_count": 12,
     "metadata": {},
     "output_type": "execute_result"
    }
   ],
   "source": [
    "loss_from_counts(counts, shots)"
   ]
  },
  {
   "cell_type": "markdown",
   "metadata": {},
   "source": [
    "Now I try to find the best parameters!"
   ]
  },
  {
   "cell_type": "code",
   "execution_count": 13,
   "metadata": {},
   "outputs": [],
   "source": [
    "def input_to_loss(inputs, shots):\n",
    "    qc = gen_circuit(inputs)\n",
    "    counts = get_counts(qc, shots)\n",
    "    return loss_from_counts(counts, shots)"
   ]
  },
  {
   "cell_type": "code",
   "execution_count": 14,
   "metadata": {},
   "outputs": [],
   "source": [
    "from scipy.optimize import minimize"
   ]
  },
  {
   "cell_type": "code",
   "execution_count": 15,
   "metadata": {},
   "outputs": [
    {
     "data": {
      "text/plain": [
       "   direc: array([[ 1.        ,  0.        ,  0.        ,  0.        ],\n",
       "       [ 0.        ,  0.        ,  0.        ,  1.        ],\n",
       "       [ 0.        ,  0.        ,  1.        ,  0.        ],\n",
       "       [-0.08315777,  0.09256503, -0.00465645, -0.00135926]])\n",
       "     fun: array(0.0017)\n",
       " message: 'Optimization terminated successfully.'\n",
       "    nfev: 168\n",
       "     nit: 2\n",
       "  status: 0\n",
       " success: True\n",
       "       x: array([2.59751634, 2.99042514, 4.76234905, 3.09845965])"
      ]
     },
     "execution_count": 15,
     "metadata": {},
     "output_type": "execute_result"
    }
   ],
   "source": [
    "shots = 1000\n",
    "res = minimize(input_to_loss, np.random.rand(4)*2*pi, method='Powell', args=(shots,))\n",
    "res"
   ]
  },
  {
   "cell_type": "code",
   "execution_count": 16,
   "metadata": {},
   "outputs": [
    {
     "name": "stdout",
     "output_type": "stream",
     "text": [
      "Best input: [2.59751634 2.99042514 4.76234905 3.09845965]\n",
      "Loss: 0.0016999999999999995\n"
     ]
    }
   ],
   "source": [
    "print(\"Best input:\", res.x)\n",
    "print(\"Loss:\", input_to_loss(res.x, shots))"
   ]
  },
  {
   "cell_type": "markdown",
   "metadata": {},
   "source": [
    "This result is not bad. I plot the circuit probabilities when measuring 1, 10, 100, 1000 times."
   ]
  },
  {
   "cell_type": "code",
   "execution_count": 17,
   "metadata": {},
   "outputs": [],
   "source": [
    "qc = gen_circuit(res.x)"
   ]
  },
  {
   "cell_type": "code",
   "execution_count": 18,
   "metadata": {},
   "outputs": [
    {
     "data": {
      "image/png": "[encoded data removed]",
      "text/plain": [
       "<Figure size 504x360 with 1 Axes>"
      ]
     },
     "execution_count": 18,
     "metadata": {},
     "output_type": "execute_result"
    }
   ],
   "source": [
    "counts = get_counts(qc, 1)\n",
    "plot_histogram(counts)"
   ]
  },
  {
   "cell_type": "code",
   "execution_count": 19,
   "metadata": {},
   "outputs": [
    {
     "data": {
      "image/png": "[encoded data removed]",
      "text/plain": [
       "<Figure size 504x360 with 1 Axes>"
      ]
     },
     "execution_count": 19,
     "metadata": {},
     "output_type": "execute_result"
    }
   ],
   "source": [
    "counts = get_counts(qc, 10)\n",
    "plot_histogram(counts)"
   ]
  },
  {
   "cell_type": "code",
   "execution_count": 20,
   "metadata": {},
   "outputs": [
    {
     "data": {
      "image/png": "[encoded data removed]",
      "text/plain": [
       "<Figure size 504x360 with 1 Axes>"
      ]
     },
     "execution_count": 20,
     "metadata": {},
     "output_type": "execute_result"
    }
   ],
   "source": [
    "counts = get_counts(qc, 100)\n",
    "plot_histogram(counts)"
   ]
  },
  {
   "cell_type": "code",
   "execution_count": 21,
   "metadata": {},
   "outputs": [
    {
     "data": {
      "image/png": "[encoded data removed]",
      "text/plain": [
       "<Figure size 504x360 with 1 Axes>"
      ]
     },
     "execution_count": 21,
     "metadata": {},
     "output_type": "execute_result"
    }
   ],
   "source": [
    "counts = get_counts(qc, 1000)\n",
    "plot_histogram(counts)"
   ]
  },
  {
   "cell_type": "markdown",
   "metadata": {},
   "source": [
    "## Analysis"
   ]
  },
  {
   "cell_type": "markdown",
   "metadata": {},
   "source": [
    "Because I initialize from random inputs, the final circuit seems to change on each run. This probably means I have a whole class of solutions. I could probably re-run this with fewer parameters and find a simpler result."
   ]
  },
  {
   "cell_type": "markdown",
   "metadata": {},
   "source": [
    "I'm not discouraged by the plots for very few number of measurements. I expect the distributions to vary widely (at least between $|01\\rangle$ and $|10\\rangle$)."
   ]
  },
  {
   "cell_type": "code",
   "execution_count": 22,
   "metadata": {},
   "outputs": [
    {
     "name": "stdout",
     "output_type": "stream",
     "text": [
      "There were this many evaluations: 168\n",
      "That corresponds to this many total experiments: 168000\n"
     ]
    }
   ],
   "source": [
    "print(\"There were this many evaluations:\", res.nfev)\n",
    "print(\"That corresponds to this many total experiments:\", res.nfev*shots)"
   ]
  },
  {
   "cell_type": "markdown",
   "metadata": {},
   "source": [
    "I worked out analytically that a simple $[\\pi, \\pi, \\pi/2, 0]$ should work just fine, since $\\sqrt{Y}$ behaves close to a Hadamard.\n",
    "But there may be other inputs that are also optimal."
   ]
  },
  {
   "cell_type": "markdown",
   "metadata": {},
   "source": [
    "The optimization algorithm will work much better with higher amounts of measurements per iteration, because the loss will be noisy (on the order of $0.5/\\sqrt{N}$ as discussed before. For example, even the optimal result has a nonzero loss."
   ]
  },
  {
   "cell_type": "code",
   "execution_count": 23,
   "metadata": {},
   "outputs": [
    {
     "data": {
      "text/plain": [
       "0.0013520000000000025"
      ]
     },
     "execution_count": 23,
     "metadata": {},
     "output_type": "execute_result"
    }
   ],
   "source": [
    "input_to_loss([pi, pi, pi/2, 0], shots)"
   ]
  },
  {
   "cell_type": "markdown",
   "metadata": {},
   "source": [
    "## Bonus"
   ]
  },
  {
   "cell_type": "markdown",
   "metadata": {},
   "source": [
    "To produce $|01\\rangle + |10\\rangle$ instead of $|01\\rangle - |10\\rangle$, I could also penalize the phase difference. But I don't have access to a state vector. I could instead measure in the Bell basis and optimize for $|\\Psi^+\\rangle \\propto |01\\rangle + |10\\rangle$."
   ]
  },
  {
   "cell_type": "markdown",
   "metadata": {},
   "source": [
    "If I don't have access to a Bell basis, I could apply a $CNOT$ then  $R_y(\\pi/2)\\otimes I$ to look for the result in the standard basis (at $|01\\rangle$). I penalize any probability weight that is not in $|01\\rangle$."
   ]
  },
  {
   "cell_type": "code",
   "execution_count": 24,
   "metadata": {},
   "outputs": [],
   "source": [
    "def gen_bonus_circuit(thetas):\n",
    "    qc = QuantumCircuit(2, 2)\n",
    "    qc.rx(thetas[0], 0)\n",
    "    qc.rx(thetas[1], 1)\n",
    "    qc.ry(thetas[2], 0)\n",
    "    qc.rx(thetas[3], 0)\n",
    "    # the CNOTs cancel each other!\n",
    "#     qc.cx(0, 1)\n",
    "#     qc.cx(0, 1) \n",
    "    qc.ry(pi/2, 0)\n",
    "    qc.measure([0, 1], [0, 1])\n",
    "    return qc"
   ]
  },
  {
   "cell_type": "markdown",
   "metadata": {},
   "source": [
    "Here's an example."
   ]
  },
  {
   "cell_type": "code",
   "execution_count": 25,
   "metadata": {},
   "outputs": [],
   "source": [
    "c = gen_bonus_circuit([pi, pi, pi/2, 0])"
   ]
  },
  {
   "cell_type": "code",
   "execution_count": 26,
   "metadata": {},
   "outputs": [
    {
     "data": {
      "text/html": [
       "<pre style=\"word-wrap: normal;white-space: pre;background: #fff0;line-height: 1.1;font-family: &quot;Courier New&quot;,Courier,monospace\">     ┌────────┐┌──────────┐┌───────┐┌──────────┐┌─┐\n",
       "q_0: ┤ RX(pi) ├┤ RY(pi/2) ├┤ RX(0) ├┤ RY(pi/2) ├┤M├\n",
       "     ├────────┤└───┬─┬────┘└───────┘└──────────┘└╥┘\n",
       "q_1: ┤ RX(pi) ├────┤M├───────────────────────────╫─\n",
       "     └────────┘    └╥┘                           ║ \n",
       "c: 2/═══════════════╩════════════════════════════╩═\n",
       "                    1                            0 </pre>"
      ],
      "text/plain": [
       "     ┌────────┐┌──────────┐┌───────┐┌──────────┐┌─┐\n",
       "q_0: ┤ RX(pi) ├┤ RY(pi/2) ├┤ RX(0) ├┤ RY(pi/2) ├┤M├\n",
       "     ├────────┤└───┬─┬────┘└───────┘└──────────┘└╥┘\n",
       "q_1: ┤ RX(pi) ├────┤M├───────────────────────────╫─\n",
       "     └────────┘    └╥┘                           ║ \n",
       "c: 2/═══════════════╩════════════════════════════╩═\n",
       "                    1                            0 "
      ]
     },
     "execution_count": 26,
     "metadata": {},
     "output_type": "execute_result"
    }
   ],
   "source": [
    "c.draw()"
   ]
  },
  {
   "cell_type": "code",
   "execution_count": 27,
   "metadata": {},
   "outputs": [
    {
     "data": {
      "text/plain": [
       "{'10': 100}"
      ]
     },
     "execution_count": 27,
     "metadata": {},
     "output_type": "execute_result"
    }
   ],
   "source": [
    "get_counts(c, 100)"
   ]
  },
  {
   "cell_type": "markdown",
   "metadata": {},
   "source": [
    "Notice that the \"optimal\" result from before does produce the state we are looking for!"
   ]
  },
  {
   "cell_type": "code",
   "execution_count": 28,
   "metadata": {},
   "outputs": [],
   "source": [
    "def input_to_bonus_loss(inputs, shots):\n",
    "    qc = gen_bonus_circuit(inputs)\n",
    "    counts = get_counts(qc, shots)\n",
    "    # something I learned: qiskit orders its qubits upside-down from the picture!\n",
    "    return 1 - counts.get('10', 0)/shots"
   ]
  },
  {
   "cell_type": "code",
   "execution_count": 29,
   "metadata": {},
   "outputs": [
    {
     "data": {
      "text/plain": [
       "0.0"
      ]
     },
     "execution_count": 29,
     "metadata": {},
     "output_type": "execute_result"
    }
   ],
   "source": [
    "input_to_bonus_loss([pi, pi, pi/2, 0], 100)"
   ]
  },
  {
   "cell_type": "markdown",
   "metadata": {},
   "source": [
    "But we can \"simulate\" this process:"
   ]
  },
  {
   "cell_type": "code",
   "execution_count": 30,
   "metadata": {},
   "outputs": [
    {
     "data": {
      "text/plain": [
       "   direc: array([[ 0.00000000e+00,  0.00000000e+00,  0.00000000e+00,\n",
       "         1.00000000e+00],\n",
       "       [ 0.00000000e+00,  1.00000000e+00,  0.00000000e+00,\n",
       "         0.00000000e+00],\n",
       "       [ 0.00000000e+00,  0.00000000e+00,  1.00000000e+00,\n",
       "         0.00000000e+00],\n",
       "       [ 1.50640275e-04,  1.78873203e-05, -1.05366640e-05,\n",
       "         1.00562098e-03]])\n",
       "     fun: array(0.)\n",
       " message: 'Optimization terminated successfully.'\n",
       "    nfev: 193\n",
       "     nit: 3\n",
       "  status: 0\n",
       " success: True\n",
       "       x: array([ 3.09980025,  3.13055976,  1.57828926, 13.3309928 ])"
      ]
     },
     "execution_count": 30,
     "metadata": {},
     "output_type": "execute_result"
    }
   ],
   "source": [
    "shots = 1000\n",
    "res = minimize(input_to_bonus_loss, np.random.rand(4)*2*pi, method='Powell', args=(shots,))\n",
    "res"
   ]
  },
  {
   "cell_type": "code",
   "execution_count": 31,
   "metadata": {},
   "outputs": [
    {
     "name": "stdout",
     "output_type": "stream",
     "text": [
      "Best input: [ 3.09980025  3.13055976  1.57828926 13.3309928 ]\n",
      "Loss: 0.0023120000000000003\n"
     ]
    }
   ],
   "source": [
    "print(\"Best input:\", res.x)\n",
    "print(\"Loss:\", input_to_loss(res.x, shots))"
   ]
  },
  {
   "cell_type": "markdown",
   "metadata": {},
   "source": [
    "Let's confirm this still gives us equal probability in $|01\\rangle$ and $|10\\rangle$."
   ]
  },
  {
   "cell_type": "code",
   "execution_count": 32,
   "metadata": {},
   "outputs": [
    {
     "data": {
      "image/png": "[encoded data removed]",
      "text/plain": [
       "<Figure size 504x360 with 1 Axes>"
      ]
     },
     "execution_count": 32,
     "metadata": {},
     "output_type": "execute_result"
    }
   ],
   "source": [
    "qc = gen_circuit(res.x)\n",
    "counts = get_counts(qc, 1000)\n",
    "plot_histogram(counts)"
   ]
  },
  {
   "cell_type": "markdown",
   "metadata": {},
   "source": [
    "## And that's a wrap!"
   ]
  },
  {
   "cell_type": "markdown",
   "metadata": {},
   "source": [
    "Thanks for reading. This was an interesting project for me! I enjoyed trying out a quantum circuit library, and I am thankful for all of it being open-source."
   ]
  }
 ],
 "metadata": {
  "kernelspec": {
   "display_name": "Python 3",
   "language": "python",
   "name": "python3"
  },
  "language_info": {
   "codemirror_mode": {
    "name": "ipython",
    "version": 3
   },
   "file_extension": ".py",
   "mimetype": "text/x-python",
   "name": "python",
   "nbconvert_exporter": "python",
   "pygments_lexer": "ipython3",
   "version": "3.7.4"
  }
 },
 "nbformat": 4,
 "nbformat_minor": 4
}
